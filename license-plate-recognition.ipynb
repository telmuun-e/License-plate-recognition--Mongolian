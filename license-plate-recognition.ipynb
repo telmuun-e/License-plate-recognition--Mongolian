{
 "cells": [
  {
   "cell_type": "code",
   "execution_count": 1,
   "metadata": {
    "_cell_guid": "b1076dfc-b9ad-4769-8c92-a6c4dae69d19",
    "_uuid": "8f2839f25d086af736a60e9eeb907d3b93b6e0e5",
    "execution": {
     "iopub.execute_input": "2020-10-11T08:05:54.581019Z",
     "iopub.status.busy": "2020-10-11T08:05:54.580170Z",
     "iopub.status.idle": "2020-10-11T08:06:00.652550Z",
     "shell.execute_reply": "2020-10-11T08:06:00.651889Z"
    },
    "papermill": {
     "duration": 6.105681,
     "end_time": "2020-10-11T08:06:00.652692",
     "exception": false,
     "start_time": "2020-10-11T08:05:54.547011",
     "status": "completed"
    },
    "tags": []
   },
   "outputs": [],
   "source": [
    "import numpy as np\n",
    "import pandas as pd \n",
    "import matplotlib.pyplot as plt\n",
    "import tensorflow as tf\n",
    "from tensorflow import keras\n",
    "import os\n",
    "from tqdm import tqdm\n",
    "from sklearn.model_selection import train_test_split\n",
    "from sklearn.preprocessing import LabelEncoder, OneHotEncoder\n",
    "import cv2 \n",
    "from glob import glob"
   ]
  },
  {
   "cell_type": "code",
   "execution_count": 2,
   "metadata": {
    "_cell_guid": "79c7e3d0-c299-4dcb-8224-4455121ee9b0",
    "_uuid": "d629ff2d2480ee46fbb7e2d37f6b5fab8052498a",
    "execution": {
     "iopub.execute_input": "2020-10-11T08:06:00.711096Z",
     "iopub.status.busy": "2020-10-11T08:06:00.709675Z",
     "iopub.status.idle": "2020-10-11T08:06:00.711853Z",
     "shell.execute_reply": "2020-10-11T08:06:00.712423Z"
    },
    "papermill": {
     "duration": 0.034202,
     "end_time": "2020-10-11T08:06:00.712561",
     "exception": false,
     "start_time": "2020-10-11T08:06:00.678359",
     "status": "completed"
    },
    "tags": []
   },
   "outputs": [],
   "source": [
    "PATH = \"../input/mlub-mongolian-car-plate-prediction\""
   ]
  },
  {
   "cell_type": "code",
   "execution_count": 3,
   "metadata": {
    "execution": {
     "iopub.execute_input": "2020-10-11T08:06:00.773932Z",
     "iopub.status.busy": "2020-10-11T08:06:00.773089Z",
     "iopub.status.idle": "2020-10-11T08:06:00.802723Z",
     "shell.execute_reply": "2020-10-11T08:06:00.803291Z"
    },
    "papermill": {
     "duration": 0.065323,
     "end_time": "2020-10-11T08:06:00.803437",
     "exception": false,
     "start_time": "2020-10-11T08:06:00.738114",
     "status": "completed"
    },
    "tags": []
   },
   "outputs": [
    {
     "data": {
      "text/html": [
       "<div>\n",
       "<style scoped>\n",
       "    .dataframe tbody tr th:only-of-type {\n",
       "        vertical-align: middle;\n",
       "    }\n",
       "\n",
       "    .dataframe tbody tr th {\n",
       "        vertical-align: top;\n",
       "    }\n",
       "\n",
       "    .dataframe thead th {\n",
       "        text-align: right;\n",
       "    }\n",
       "</style>\n",
       "<table border=\"1\" class=\"dataframe\">\n",
       "  <thead>\n",
       "    <tr style=\"text-align: right;\">\n",
       "      <th></th>\n",
       "      <th>file_name</th>\n",
       "      <th>plate_number</th>\n",
       "    </tr>\n",
       "  </thead>\n",
       "  <tbody>\n",
       "    <tr>\n",
       "      <th>0</th>\n",
       "      <td>0001.png</td>\n",
       "      <td>3803УБЧ</td>\n",
       "    </tr>\n",
       "    <tr>\n",
       "      <th>1</th>\n",
       "      <td>0002.png</td>\n",
       "      <td>5791УБВ</td>\n",
       "    </tr>\n",
       "    <tr>\n",
       "      <th>2</th>\n",
       "      <td>0003.png</td>\n",
       "      <td>1760УНЭ</td>\n",
       "    </tr>\n",
       "    <tr>\n",
       "      <th>3</th>\n",
       "      <td>0004.png</td>\n",
       "      <td>1407УНУ</td>\n",
       "    </tr>\n",
       "    <tr>\n",
       "      <th>4</th>\n",
       "      <td>0005.png</td>\n",
       "      <td>1861УНЛ</td>\n",
       "    </tr>\n",
       "  </tbody>\n",
       "</table>\n",
       "</div>"
      ],
      "text/plain": [
       "  file_name plate_number\n",
       "0  0001.png      3803УБЧ\n",
       "1  0002.png      5791УБВ\n",
       "2  0003.png      1760УНЭ\n",
       "3  0004.png      1407УНУ\n",
       "4  0005.png      1861УНЛ"
      ]
     },
     "execution_count": 3,
     "metadata": {},
     "output_type": "execute_result"
    }
   ],
   "source": [
    "train_csv = pd.read_csv(os.path.join(PATH, \"training.csv\"))\n",
    "train_csv.head()"
   ]
  },
  {
   "cell_type": "code",
   "execution_count": 4,
   "metadata": {
    "execution": {
     "iopub.execute_input": "2020-10-11T08:06:00.872854Z",
     "iopub.status.busy": "2020-10-11T08:06:00.871988Z",
     "iopub.status.idle": "2020-10-11T08:06:00.905207Z",
     "shell.execute_reply": "2020-10-11T08:06:00.904659Z"
    },
    "papermill": {
     "duration": 0.075069,
     "end_time": "2020-10-11T08:06:00.905325",
     "exception": false,
     "start_time": "2020-10-11T08:06:00.830256",
     "status": "completed"
    },
    "tags": []
   },
   "outputs": [
    {
     "data": {
      "text/html": [
       "<div>\n",
       "<style scoped>\n",
       "    .dataframe tbody tr th:only-of-type {\n",
       "        vertical-align: middle;\n",
       "    }\n",
       "\n",
       "    .dataframe tbody tr th {\n",
       "        vertical-align: top;\n",
       "    }\n",
       "\n",
       "    .dataframe thead th {\n",
       "        text-align: right;\n",
       "    }\n",
       "</style>\n",
       "<table border=\"1\" class=\"dataframe\">\n",
       "  <thead>\n",
       "    <tr style=\"text-align: right;\">\n",
       "      <th></th>\n",
       "      <th>file_name</th>\n",
       "      <th>plate_number</th>\n",
       "    </tr>\n",
       "  </thead>\n",
       "  <tbody>\n",
       "    <tr>\n",
       "      <th>count</th>\n",
       "      <td>3697</td>\n",
       "      <td>3697</td>\n",
       "    </tr>\n",
       "    <tr>\n",
       "      <th>unique</th>\n",
       "      <td>3697</td>\n",
       "      <td>3143</td>\n",
       "    </tr>\n",
       "    <tr>\n",
       "      <th>top</th>\n",
       "      <td>0603.png</td>\n",
       "      <td>6671УНЗ</td>\n",
       "    </tr>\n",
       "    <tr>\n",
       "      <th>freq</th>\n",
       "      <td>1</td>\n",
       "      <td>9</td>\n",
       "    </tr>\n",
       "  </tbody>\n",
       "</table>\n",
       "</div>"
      ],
      "text/plain": [
       "       file_name plate_number\n",
       "count       3697         3697\n",
       "unique      3697         3143\n",
       "top     0603.png      6671УНЗ\n",
       "freq           1            9"
      ]
     },
     "execution_count": 4,
     "metadata": {},
     "output_type": "execute_result"
    }
   ],
   "source": [
    "train_csv.describe()"
   ]
  },
  {
   "cell_type": "code",
   "execution_count": 5,
   "metadata": {
    "execution": {
     "iopub.execute_input": "2020-10-11T08:06:00.966040Z",
     "iopub.status.busy": "2020-10-11T08:06:00.965005Z",
     "iopub.status.idle": "2020-10-11T08:06:00.984533Z",
     "shell.execute_reply": "2020-10-11T08:06:00.983943Z"
    },
    "papermill": {
     "duration": 0.051995,
     "end_time": "2020-10-11T08:06:00.984657",
     "exception": false,
     "start_time": "2020-10-11T08:06:00.932662",
     "status": "completed"
    },
    "tags": []
   },
   "outputs": [
    {
     "data": {
      "text/html": [
       "<div>\n",
       "<style scoped>\n",
       "    .dataframe tbody tr th:only-of-type {\n",
       "        vertical-align: middle;\n",
       "    }\n",
       "\n",
       "    .dataframe tbody tr th {\n",
       "        vertical-align: top;\n",
       "    }\n",
       "\n",
       "    .dataframe thead th {\n",
       "        text-align: right;\n",
       "    }\n",
       "</style>\n",
       "<table border=\"1\" class=\"dataframe\">\n",
       "  <thead>\n",
       "    <tr style=\"text-align: right;\">\n",
       "      <th></th>\n",
       "      <th>file_name</th>\n",
       "      <th>plate_number</th>\n",
       "    </tr>\n",
       "  </thead>\n",
       "  <tbody>\n",
       "    <tr>\n",
       "      <th>0</th>\n",
       "      <td>3698.png</td>\n",
       "      <td>1111AAA</td>\n",
       "    </tr>\n",
       "    <tr>\n",
       "      <th>1</th>\n",
       "      <td>3699.png</td>\n",
       "      <td>1111AAA</td>\n",
       "    </tr>\n",
       "    <tr>\n",
       "      <th>2</th>\n",
       "      <td>3700.png</td>\n",
       "      <td>1111AAA</td>\n",
       "    </tr>\n",
       "    <tr>\n",
       "      <th>3</th>\n",
       "      <td>3701.png</td>\n",
       "      <td>1111AAA</td>\n",
       "    </tr>\n",
       "    <tr>\n",
       "      <th>4</th>\n",
       "      <td>3702.png</td>\n",
       "      <td>1111AAA</td>\n",
       "    </tr>\n",
       "    <tr>\n",
       "      <th>...</th>\n",
       "      <td>...</td>\n",
       "      <td>...</td>\n",
       "    </tr>\n",
       "    <tr>\n",
       "      <th>3692</th>\n",
       "      <td>7390.png</td>\n",
       "      <td>1111AAA</td>\n",
       "    </tr>\n",
       "    <tr>\n",
       "      <th>3693</th>\n",
       "      <td>7391.png</td>\n",
       "      <td>1111AAA</td>\n",
       "    </tr>\n",
       "    <tr>\n",
       "      <th>3694</th>\n",
       "      <td>7392.png</td>\n",
       "      <td>1111AAA</td>\n",
       "    </tr>\n",
       "    <tr>\n",
       "      <th>3695</th>\n",
       "      <td>7393.png</td>\n",
       "      <td>1111AAA</td>\n",
       "    </tr>\n",
       "    <tr>\n",
       "      <th>3696</th>\n",
       "      <td>7394.png</td>\n",
       "      <td>1111AAA</td>\n",
       "    </tr>\n",
       "  </tbody>\n",
       "</table>\n",
       "<p>3697 rows × 2 columns</p>\n",
       "</div>"
      ],
      "text/plain": [
       "     file_name plate_number\n",
       "0     3698.png      1111AAA\n",
       "1     3699.png      1111AAA\n",
       "2     3700.png      1111AAA\n",
       "3     3701.png      1111AAA\n",
       "4     3702.png      1111AAA\n",
       "...        ...          ...\n",
       "3692  7390.png      1111AAA\n",
       "3693  7391.png      1111AAA\n",
       "3694  7392.png      1111AAA\n",
       "3695  7393.png      1111AAA\n",
       "3696  7394.png      1111AAA\n",
       "\n",
       "[3697 rows x 2 columns]"
      ]
     },
     "execution_count": 5,
     "metadata": {},
     "output_type": "execute_result"
    }
   ],
   "source": [
    "test_csv = pd.read_csv(os.path.join(PATH, \"submission.csv\"))\n",
    "test_csv"
   ]
  },
  {
   "cell_type": "code",
   "execution_count": 6,
   "metadata": {
    "execution": {
     "iopub.execute_input": "2020-10-11T08:06:01.052608Z",
     "iopub.status.busy": "2020-10-11T08:06:01.051594Z",
     "iopub.status.idle": "2020-10-11T08:06:01.067802Z",
     "shell.execute_reply": "2020-10-11T08:06:01.068320Z"
    },
    "papermill": {
     "duration": 0.055843,
     "end_time": "2020-10-11T08:06:01.068462",
     "exception": false,
     "start_time": "2020-10-11T08:06:01.012619",
     "status": "completed"
    },
    "tags": []
   },
   "outputs": [
    {
     "data": {
      "text/html": [
       "<div>\n",
       "<style scoped>\n",
       "    .dataframe tbody tr th:only-of-type {\n",
       "        vertical-align: middle;\n",
       "    }\n",
       "\n",
       "    .dataframe tbody tr th {\n",
       "        vertical-align: top;\n",
       "    }\n",
       "\n",
       "    .dataframe thead th {\n",
       "        text-align: right;\n",
       "    }\n",
       "</style>\n",
       "<table border=\"1\" class=\"dataframe\">\n",
       "  <thead>\n",
       "    <tr style=\"text-align: right;\">\n",
       "      <th></th>\n",
       "      <th>file_name</th>\n",
       "      <th>plate_number</th>\n",
       "    </tr>\n",
       "  </thead>\n",
       "  <tbody>\n",
       "    <tr>\n",
       "      <th>count</th>\n",
       "      <td>3697</td>\n",
       "      <td>3697</td>\n",
       "    </tr>\n",
       "    <tr>\n",
       "      <th>unique</th>\n",
       "      <td>3697</td>\n",
       "      <td>1</td>\n",
       "    </tr>\n",
       "    <tr>\n",
       "      <th>top</th>\n",
       "      <td>7016.png</td>\n",
       "      <td>1111AAA</td>\n",
       "    </tr>\n",
       "    <tr>\n",
       "      <th>freq</th>\n",
       "      <td>1</td>\n",
       "      <td>3697</td>\n",
       "    </tr>\n",
       "  </tbody>\n",
       "</table>\n",
       "</div>"
      ],
      "text/plain": [
       "       file_name plate_number\n",
       "count       3697         3697\n",
       "unique      3697            1\n",
       "top     7016.png      1111AAA\n",
       "freq           1         3697"
      ]
     },
     "execution_count": 6,
     "metadata": {},
     "output_type": "execute_result"
    }
   ],
   "source": [
    "test_csv.describe()"
   ]
  },
  {
   "cell_type": "code",
   "execution_count": 7,
   "metadata": {
    "execution": {
     "iopub.execute_input": "2020-10-11T08:06:01.133805Z",
     "iopub.status.busy": "2020-10-11T08:06:01.132978Z",
     "iopub.status.idle": "2020-10-11T08:06:01.136938Z",
     "shell.execute_reply": "2020-10-11T08:06:01.137695Z"
    },
    "papermill": {
     "duration": 0.041589,
     "end_time": "2020-10-11T08:06:01.137881",
     "exception": false,
     "start_time": "2020-10-11T08:06:01.096292",
     "status": "completed"
    },
    "tags": []
   },
   "outputs": [
    {
     "name": "stdout",
     "output_type": "stream",
     "text": [
      "file_name 0\n",
      "plate_number 0\n"
     ]
    }
   ],
   "source": [
    "columns = train_csv.columns\n",
    "\n",
    "for i in columns:\n",
    "    print(i, train_csv[i].isnull().sum())"
   ]
  },
  {
   "cell_type": "code",
   "execution_count": 8,
   "metadata": {
    "execution": {
     "iopub.execute_input": "2020-10-11T08:06:01.203260Z",
     "iopub.status.busy": "2020-10-11T08:06:01.202302Z",
     "iopub.status.idle": "2020-10-11T08:06:01.204923Z",
     "shell.execute_reply": "2020-10-11T08:06:01.205465Z"
    },
    "papermill": {
     "duration": 0.038109,
     "end_time": "2020-10-11T08:06:01.205611",
     "exception": false,
     "start_time": "2020-10-11T08:06:01.167502",
     "status": "completed"
    },
    "tags": []
   },
   "outputs": [],
   "source": [
    "def plot_img(img):\n",
    "    plt.figure(figsize=(7,10))\n",
    "    plt.imshow(img)\n",
    "    plt.show()"
   ]
  },
  {
   "cell_type": "code",
   "execution_count": 9,
   "metadata": {
    "execution": {
     "iopub.execute_input": "2020-10-11T08:06:01.268516Z",
     "iopub.status.busy": "2020-10-11T08:06:01.267700Z",
     "iopub.status.idle": "2020-10-11T08:06:01.492543Z",
     "shell.execute_reply": "2020-10-11T08:06:01.493176Z"
    },
    "papermill": {
     "duration": 0.259104,
     "end_time": "2020-10-11T08:06:01.493355",
     "exception": false,
     "start_time": "2020-10-11T08:06:01.234251",
     "status": "completed"
    },
    "tags": []
   },
   "outputs": [
    {
     "data": {
      "image/png": "[encoded data removed]",
      "text/plain": [
       "<Figure size 504x720 with 1 Axes>"
      ]
     },
     "metadata": {
      "needs_background": "light"
     },
     "output_type": "display_data"
    }
   ],
   "source": [
    "img = cv2.imread(os.path.join(PATH, \"test/test/7390.png\"))\n",
    "plot_img(img)"
   ]
  },
  {
   "cell_type": "code",
   "execution_count": 10,
   "metadata": {
    "execution": {
     "iopub.execute_input": "2020-10-11T08:06:01.575496Z",
     "iopub.status.busy": "2020-10-11T08:06:01.574243Z",
     "iopub.status.idle": "2020-10-11T08:06:01.655468Z",
     "shell.execute_reply": "2020-10-11T08:06:01.654899Z"
    },
    "papermill": {
     "duration": 0.126998,
     "end_time": "2020-10-11T08:06:01.655590",
     "exception": false,
     "start_time": "2020-10-11T08:06:01.528592",
     "status": "completed"
    },
    "tags": []
   },
   "outputs": [
    {
     "data": {
      "text/plain": [
       "3697"
      ]
     },
     "execution_count": 10,
     "metadata": {},
     "output_type": "execute_result"
    }
   ],
   "source": [
    "training_paths = sorted(glob(os.path.join(PATH, \"training/training/*\")))\n",
    "len(training_paths)"
   ]
  },
  {
   "cell_type": "code",
   "execution_count": 11,
   "metadata": {
    "execution": {
     "iopub.execute_input": "2020-10-11T08:06:01.724445Z",
     "iopub.status.busy": "2020-10-11T08:06:01.723555Z",
     "iopub.status.idle": "2020-10-11T08:06:01.727343Z",
     "shell.execute_reply": "2020-10-11T08:06:01.727798Z"
    },
    "papermill": {
     "duration": 0.040684,
     "end_time": "2020-10-11T08:06:01.727935",
     "exception": false,
     "start_time": "2020-10-11T08:06:01.687251",
     "status": "completed"
    },
    "tags": []
   },
   "outputs": [],
   "source": [
    "def sort_contours(ctrs, img_gray):\n",
    "    sorted_ctrs = sorted(ctrs, key=lambda ctr: cv2.boundingRect(ctr)[0] + cv2.boundingRect(ctr)[1] * 8)\n",
    "    return sorted_ctrs"
   ]
  },
  {
   "cell_type": "code",
   "execution_count": 12,
   "metadata": {
    "execution": {
     "iopub.execute_input": "2020-10-11T08:06:01.797058Z",
     "iopub.status.busy": "2020-10-11T08:06:01.796231Z",
     "iopub.status.idle": "2020-10-11T08:06:01.800365Z",
     "shell.execute_reply": "2020-10-11T08:06:01.799792Z"
    },
    "papermill": {
     "duration": 0.041472,
     "end_time": "2020-10-11T08:06:01.800480",
     "exception": false,
     "start_time": "2020-10-11T08:06:01.759008",
     "status": "completed"
    },
    "tags": []
   },
   "outputs": [],
   "source": [
    "def check(plates):\n",
    "    h1 = plates[0].shape[0]\n",
    "    checks = True\n",
    "    for i in range(len(plates)):\n",
    "        thr = h1 / plates[i].shape[0]\n",
    "        if thr < 0.8 or thr > 1.3:\n",
    "            checks = False\n",
    "    return checks"
   ]
  },
  {
   "cell_type": "code",
   "execution_count": 13,
   "metadata": {
    "execution": {
     "iopub.execute_input": "2020-10-11T08:06:01.880401Z",
     "iopub.status.busy": "2020-10-11T08:06:01.878279Z",
     "iopub.status.idle": "2020-10-11T08:06:01.881401Z",
     "shell.execute_reply": "2020-10-11T08:06:01.881974Z"
    },
    "papermill": {
     "duration": 0.050188,
     "end_time": "2020-10-11T08:06:01.882120",
     "exception": false,
     "start_time": "2020-10-11T08:06:01.831932",
     "status": "completed"
    },
    "tags": []
   },
   "outputs": [],
   "source": [
    "def prepare_img(path):\n",
    "    img = cv2.imread(path)\n",
    "    thresholds = [50 + i*10 for i in range(19)]\n",
    "    for thresh in thresholds:\n",
    "        img_gray = cv2.cvtColor(img, cv2.COLOR_BGR2GRAY)\n",
    "        img_gray[img_gray < thresh] = 0\n",
    "        img_gray[img_gray > thresh] = 255\n",
    "        \n",
    "        contours, _ = cv2.findContours(img_gray, cv2.RETR_LIST, cv2.CHAIN_APPROX_SIMPLE)\n",
    "        crop_characters = []\n",
    "        for c in sort_contours(contours, img_gray):\n",
    "            (x, y, w, h) = cv2.boundingRect(c)\n",
    "            \n",
    "            if h / img_gray.shape[0] >= 0.25 and h / img_gray.shape[0] <= 0.7 and w / img_gray.shape[1] > 0.03 and \\\n",
    "            w / img_gray.shape[1] < 0.2:  \n",
    "                \n",
    "                curr_num = img_gray[y:y+h, x:x+w]\n",
    "                _, curr_num = cv2.threshold(curr_num, 220, 255, cv2.THRESH_BINARY + cv2.THRESH_OTSU)\n",
    "                \n",
    "                if curr_num[0][0] == 255:\n",
    "                    crop_characters.append(curr_num)\n",
    "                    \n",
    "        if len(crop_characters) == 7 and check(crop_characters):\n",
    "            return crop_characters"
   ]
  },
  {
   "cell_type": "code",
   "execution_count": 14,
   "metadata": {
    "execution": {
     "iopub.execute_input": "2020-10-11T08:06:01.957332Z",
     "iopub.status.busy": "2020-10-11T08:06:01.955355Z",
     "iopub.status.idle": "2020-10-11T08:06:34.409492Z",
     "shell.execute_reply": "2020-10-11T08:06:34.409988Z"
    },
    "papermill": {
     "duration": 32.495736,
     "end_time": "2020-10-11T08:06:34.410160",
     "exception": false,
     "start_time": "2020-10-11T08:06:01.914424",
     "status": "completed"
    },
    "tags": []
   },
   "outputs": [
    {
     "name": "stderr",
     "output_type": "stream",
     "text": [
      "100%|██████████| 3697/3697 [00:32<00:00, 113.95it/s]\n"
     ]
    }
   ],
   "source": [
    "character_img = []\n",
    "characters = []\n",
    "for i, path in enumerate(tqdm(training_paths)):\n",
    "    cropped_img = prepare_img(path)\n",
    "    if cropped_img and len(train_csv.loc[i, \"plate_number\"]) == 7:\n",
    "        for img in cropped_img:\n",
    "            resized = cv2.resize(img, (64, 64), interpolation = cv2.INTER_AREA)\n",
    "            resized = resized / 255\n",
    "            character_img.append(resized)\n",
    "        for char in train_csv.loc[i, \"plate_number\"]:\n",
    "            characters.append(char)"
   ]
  },
  {
   "cell_type": "code",
   "execution_count": 15,
   "metadata": {
    "execution": {
     "iopub.execute_input": "2020-10-11T08:06:34.707105Z",
     "iopub.status.busy": "2020-10-11T08:06:34.704455Z",
     "iopub.status.idle": "2020-10-11T08:06:34.709633Z",
     "shell.execute_reply": "2020-10-11T08:06:34.709019Z"
    },
    "papermill": {
     "duration": 0.155299,
     "end_time": "2020-10-11T08:06:34.709750",
     "exception": false,
     "start_time": "2020-10-11T08:06:34.554451",
     "status": "completed"
    },
    "tags": []
   },
   "outputs": [
    {
     "name": "stdout",
     "output_type": "stream",
     "text": [
      "Number of images: 14329\n",
      "Number of characters: 14329\n"
     ]
    }
   ],
   "source": [
    "print(f\"Number of images: {len(character_img)}\")\n",
    "print(f\"Number of characters: {len(characters)}\")"
   ]
  },
  {
   "cell_type": "code",
   "execution_count": 16,
   "metadata": {
    "execution": {
     "iopub.execute_input": "2020-10-11T08:06:35.013044Z",
     "iopub.status.busy": "2020-10-11T08:06:35.009945Z",
     "iopub.status.idle": "2020-10-11T08:06:35.217783Z",
     "shell.execute_reply": "2020-10-11T08:06:35.217118Z"
    },
    "papermill": {
     "duration": 0.3656,
     "end_time": "2020-10-11T08:06:35.217920",
     "exception": false,
     "start_time": "2020-10-11T08:06:34.852320",
     "status": "completed"
    },
    "tags": []
   },
   "outputs": [
    {
     "data": {
      "image/png": "[encoded data removed]",
      "text/plain": [
       "<Figure size 504x720 with 1 Axes>"
      ]
     },
     "metadata": {
      "needs_background": "light"
     },
     "output_type": "display_data"
    }
   ],
   "source": [
    "sample = character_img[10]\n",
    "plot_img(sample)"
   ]
  },
  {
   "cell_type": "code",
   "execution_count": 17,
   "metadata": {
    "execution": {
     "iopub.execute_input": "2020-10-11T08:06:35.540621Z",
     "iopub.status.busy": "2020-10-11T08:06:35.539775Z",
     "iopub.status.idle": "2020-10-11T08:06:35.546510Z",
     "shell.execute_reply": "2020-10-11T08:06:35.547090Z"
    },
    "papermill": {
     "duration": 0.171476,
     "end_time": "2020-10-11T08:06:35.547284",
     "exception": false,
     "start_time": "2020-10-11T08:06:35.375808",
     "status": "completed"
    },
    "tags": []
   },
   "outputs": [
    {
     "data": {
      "text/plain": [
       "'1'"
      ]
     },
     "execution_count": 17,
     "metadata": {},
     "output_type": "execute_result"
    }
   ],
   "source": [
    "characters[10]"
   ]
  },
  {
   "cell_type": "code",
   "execution_count": 18,
   "metadata": {
    "execution": {
     "iopub.execute_input": "2020-10-11T08:06:35.866979Z",
     "iopub.status.busy": "2020-10-11T08:06:35.865795Z",
     "iopub.status.idle": "2020-10-11T08:06:36.084453Z",
     "shell.execute_reply": "2020-10-11T08:06:36.089269Z"
    },
    "papermill": {
     "duration": 0.380644,
     "end_time": "2020-10-11T08:06:36.089466",
     "exception": false,
     "start_time": "2020-10-11T08:06:35.708822",
     "status": "completed"
    },
    "tags": []
   },
   "outputs": [],
   "source": [
    "character_img = np.array(character_img).reshape(-1, 64, 64, 1)\n",
    "characters = np.array(characters)\n",
    "le = LabelEncoder()\n",
    "encoded = le.fit_transform(characters)"
   ]
  },
  {
   "cell_type": "code",
   "execution_count": 19,
   "metadata": {
    "execution": {
     "iopub.execute_input": "2020-10-11T08:06:36.515509Z",
     "iopub.status.busy": "2020-10-11T08:06:36.513942Z",
     "iopub.status.idle": "2020-10-11T08:06:36.663678Z",
     "shell.execute_reply": "2020-10-11T08:06:36.664564Z"
    },
    "papermill": {
     "duration": 0.369506,
     "end_time": "2020-10-11T08:06:36.664762",
     "exception": false,
     "start_time": "2020-10-11T08:06:36.295256",
     "status": "completed"
    },
    "tags": []
   },
   "outputs": [],
   "source": [
    "X_train, X_val, y_train, y_val = train_test_split(character_img, encoded, test_size=0.2)"
   ]
  },
  {
   "cell_type": "code",
   "execution_count": 20,
   "metadata": {
    "execution": {
     "iopub.execute_input": "2020-10-11T08:06:37.094097Z",
     "iopub.status.busy": "2020-10-11T08:06:37.093141Z",
     "iopub.status.idle": "2020-10-11T08:06:37.097281Z",
     "shell.execute_reply": "2020-10-11T08:06:37.096800Z"
    },
    "papermill": {
     "duration": 0.220594,
     "end_time": "2020-10-11T08:06:37.097386",
     "exception": false,
     "start_time": "2020-10-11T08:06:36.876792",
     "status": "completed"
    },
    "tags": []
   },
   "outputs": [],
   "source": [
    "gen = keras.preprocessing.image.ImageDataGenerator(rotation_range=10,\n",
    "                                                   zoom_range = 0.1,\n",
    "                                                   width_shift_range=0.1,\n",
    "                                                   height_shift_range=0.1)"
   ]
  },
  {
   "cell_type": "code",
   "execution_count": 21,
   "metadata": {
    "execution": {
     "iopub.execute_input": "2020-10-11T08:06:37.402529Z",
     "iopub.status.busy": "2020-10-11T08:06:37.401223Z",
     "iopub.status.idle": "2020-10-11T08:06:37.552401Z",
     "shell.execute_reply": "2020-10-11T08:06:37.551770Z"
    },
    "papermill": {
     "duration": 0.302076,
     "end_time": "2020-10-11T08:06:37.552520",
     "exception": false,
     "start_time": "2020-10-11T08:06:37.250444",
     "status": "completed"
    },
    "tags": []
   },
   "outputs": [],
   "source": [
    "gen.fit(X_train)"
   ]
  },
  {
   "cell_type": "code",
   "execution_count": 22,
   "metadata": {
    "execution": {
     "iopub.execute_input": "2020-10-11T08:06:37.848828Z",
     "iopub.status.busy": "2020-10-11T08:06:37.847767Z",
     "iopub.status.idle": "2020-10-11T08:06:37.854864Z",
     "shell.execute_reply": "2020-10-11T08:06:37.854326Z"
    },
    "papermill": {
     "duration": 0.157368,
     "end_time": "2020-10-11T08:06:37.854980",
     "exception": false,
     "start_time": "2020-10-11T08:06:37.697612",
     "status": "completed"
    },
    "tags": []
   },
   "outputs": [
    {
     "data": {
      "text/plain": [
       "35"
      ]
     },
     "execution_count": 22,
     "metadata": {},
     "output_type": "execute_result"
    }
   ],
   "source": [
    "unique_char = len(np.unique(characters))\n",
    "unique_char"
   ]
  },
  {
   "cell_type": "code",
   "execution_count": 23,
   "metadata": {
    "execution": {
     "iopub.execute_input": "2020-10-11T08:06:38.174207Z",
     "iopub.status.busy": "2020-10-11T08:06:38.173326Z",
     "iopub.status.idle": "2020-10-11T08:06:41.282415Z",
     "shell.execute_reply": "2020-10-11T08:06:41.281060Z"
    },
    "papermill": {
     "duration": 3.277404,
     "end_time": "2020-10-11T08:06:41.282554",
     "exception": false,
     "start_time": "2020-10-11T08:06:38.005150",
     "status": "completed"
    },
    "tags": []
   },
   "outputs": [],
   "source": [
    "model = keras.models.Sequential()\n",
    "\n",
    "model.add(keras.layers.Conv2D(64, kernel_size = 3, activation=\"relu\", input_shape = (64, 64, 1)))\n",
    "model.add(keras.layers.BatchNormalization())\n",
    "model.add(keras.layers.Conv2D(64, kernel_size = 3, activation=\"relu\"))\n",
    "model.add(keras.layers.BatchNormalization())\n",
    "model.add(keras.layers.Conv2D(64, kernel_size = 3, strides=2, padding='valid', activation=\"relu\"))\n",
    "model.add(keras.layers.BatchNormalization())\n",
    "model.add(keras.layers.Dropout(0.3))\n",
    "model.add(keras.layers.Conv2D(128, kernel_size = 3, activation=\"relu\"))\n",
    "model.add(keras.layers.BatchNormalization())\n",
    "model.add(keras.layers.Conv2D(128, kernel_size = 3, activation=\"relu\"))\n",
    "model.add(keras.layers.BatchNormalization())\n",
    "model.add(keras.layers.Conv2D(128, kernel_size = 3, strides=2, padding='same', activation=\"relu\"))\n",
    "model.add(keras.layers.BatchNormalization())\n",
    "model.add(keras.layers.Dropout(0.3))\n",
    "model.add(keras.layers.Conv2D(256, kernel_size = 3, activation=\"relu\"))\n",
    "model.add(keras.layers.BatchNormalization())\n",
    "model.add(keras.layers.Conv2D(256, kernel_size = 3, activation=\"relu\"))\n",
    "model.add(keras.layers.BatchNormalization())\n",
    "model.add(keras.layers.Dropout(0.3))\n",
    "model.add(keras.layers.Flatten())\n",
    "model.add(keras.layers.Dense(512))\n",
    "model.add(keras.layers.Dropout(0.3))\n",
    "model.add(keras.layers.Dense(unique_char, activation='softmax'))"
   ]
  },
  {
   "cell_type": "code",
   "execution_count": 24,
   "metadata": {
    "execution": {
     "iopub.execute_input": "2020-10-11T08:06:41.597792Z",
     "iopub.status.busy": "2020-10-11T08:06:41.596752Z",
     "iopub.status.idle": "2020-10-11T08:06:41.599585Z",
     "shell.execute_reply": "2020-10-11T08:06:41.598901Z"
    },
    "papermill": {
     "duration": 0.171938,
     "end_time": "2020-10-11T08:06:41.599696",
     "exception": false,
     "start_time": "2020-10-11T08:06:41.427758",
     "status": "completed"
    },
    "tags": []
   },
   "outputs": [],
   "source": [
    "def lr_schedule(epoch):\n",
    "    return 0.01 * 0.1 ** (epoch / 20)"
   ]
  },
  {
   "cell_type": "code",
   "execution_count": 25,
   "metadata": {
    "execution": {
     "iopub.execute_input": "2020-10-11T08:06:41.904426Z",
     "iopub.status.busy": "2020-10-11T08:06:41.903651Z",
     "iopub.status.idle": "2020-10-11T08:06:41.908635Z",
     "shell.execute_reply": "2020-10-11T08:06:41.908064Z"
    },
    "papermill": {
     "duration": 0.160681,
     "end_time": "2020-10-11T08:06:41.908758",
     "exception": false,
     "start_time": "2020-10-11T08:06:41.748077",
     "status": "completed"
    },
    "tags": []
   },
   "outputs": [],
   "source": [
    "lr_scheduler = keras.callbacks.LearningRateScheduler(lr_schedule)\n",
    "check_point = keras.callbacks.ModelCheckpoint(\"tf.h5\", save_best_only=True)"
   ]
  },
  {
   "cell_type": "code",
   "execution_count": 26,
   "metadata": {
    "execution": {
     "iopub.execute_input": "2020-10-11T08:06:42.213695Z",
     "iopub.status.busy": "2020-10-11T08:06:42.211045Z",
     "iopub.status.idle": "2020-10-11T08:06:42.244762Z",
     "shell.execute_reply": "2020-10-11T08:06:42.243131Z"
    },
    "papermill": {
     "duration": 0.189875,
     "end_time": "2020-10-11T08:06:42.244933",
     "exception": false,
     "start_time": "2020-10-11T08:06:42.055058",
     "status": "completed"
    },
    "tags": []
   },
   "outputs": [],
   "source": [
    "optimizer = keras.optimizers.Adam(lr=0.001, beta_1=0.9, beta_2=0.999)\n",
    "model.compile(optimizer=optimizer, loss = \"sparse_categorical_crossentropy\", metrics=[\"accuracy\"])"
   ]
  },
  {
   "cell_type": "code",
   "execution_count": 27,
   "metadata": {
    "execution": {
     "iopub.execute_input": "2020-10-11T08:06:42.565384Z",
     "iopub.status.busy": "2020-10-11T08:06:42.563914Z",
     "iopub.status.idle": "2020-10-11T08:12:52.175103Z",
     "shell.execute_reply": "2020-10-11T08:12:52.174504Z"
    },
    "papermill": {
     "duration": 369.777395,
     "end_time": "2020-10-11T08:12:52.175277",
     "exception": false,
     "start_time": "2020-10-11T08:06:42.397882",
     "status": "completed"
    },
    "tags": []
   },
   "outputs": [
    {
     "name": "stdout",
     "output_type": "stream",
     "text": [
      "Epoch 1/30\n",
      "359/359 [==============================] - 12s 34ms/step - loss: 34.5321 - accuracy: 0.6832 - val_loss: 2.0285 - val_accuracy: 0.5516\n",
      "Epoch 2/30\n",
      "359/359 [==============================] - 12s 35ms/step - loss: 0.7654 - accuracy: 0.8330 - val_loss: 0.6389 - val_accuracy: 0.8234\n",
      "Epoch 3/30\n",
      "359/359 [==============================] - 12s 33ms/step - loss: 0.6490 - accuracy: 0.8625 - val_loss: 0.3594 - val_accuracy: 0.9313\n",
      "Epoch 4/30\n",
      "359/359 [==============================] - 11s 31ms/step - loss: 0.5562 - accuracy: 0.8768 - val_loss: 0.3745 - val_accuracy: 0.9211\n",
      "Epoch 5/30\n",
      "359/359 [==============================] - 13s 37ms/step - loss: 0.4881 - accuracy: 0.8852 - val_loss: 0.4284 - val_accuracy: 0.9103\n",
      "Epoch 6/30\n",
      "359/359 [==============================] - 11s 32ms/step - loss: 0.4711 - accuracy: 0.8942 - val_loss: 0.6706 - val_accuracy: 0.8165\n",
      "Epoch 7/30\n",
      "359/359 [==============================] - 11s 31ms/step - loss: 0.4234 - accuracy: 0.9098 - val_loss: 0.8063 - val_accuracy: 0.7742\n",
      "Epoch 8/30\n",
      "359/359 [==============================] - 13s 36ms/step - loss: 0.4087 - accuracy: 0.9086 - val_loss: 0.2647 - val_accuracy: 0.9452\n",
      "Epoch 9/30\n",
      "359/359 [==============================] - 11s 31ms/step - loss: 0.3875 - accuracy: 0.9126 - val_loss: 0.2857 - val_accuracy: 0.9501\n",
      "Epoch 10/30\n",
      "359/359 [==============================] - 13s 36ms/step - loss: 0.3593 - accuracy: 0.9193 - val_loss: 0.3281 - val_accuracy: 0.9505\n",
      "Epoch 11/30\n",
      "359/359 [==============================] - 12s 32ms/step - loss: 0.3538 - accuracy: 0.9234 - val_loss: 0.2571 - val_accuracy: 0.9473\n",
      "Epoch 12/30\n",
      "359/359 [==============================] - 11s 31ms/step - loss: 0.3468 - accuracy: 0.9236 - val_loss: 0.2606 - val_accuracy: 0.9417\n",
      "Epoch 13/30\n",
      "359/359 [==============================] - 13s 36ms/step - loss: 0.3321 - accuracy: 0.9273 - val_loss: 0.2557 - val_accuracy: 0.9470\n",
      "Epoch 14/30\n",
      "359/359 [==============================] - 11s 30ms/step - loss: 0.3226 - accuracy: 0.9299 - val_loss: 2.3915 - val_accuracy: 0.4707\n",
      "Epoch 15/30\n",
      "359/359 [==============================] - 12s 33ms/step - loss: 0.3142 - accuracy: 0.9307 - val_loss: 2.4621 - val_accuracy: 0.3828\n",
      "Epoch 16/30\n",
      "359/359 [==============================] - 13s 35ms/step - loss: 0.3115 - accuracy: 0.9303 - val_loss: 3.0208 - val_accuracy: 0.3123\n",
      "Epoch 17/30\n",
      "359/359 [==============================] - 11s 30ms/step - loss: 0.3042 - accuracy: 0.9340 - val_loss: 1.8790 - val_accuracy: 0.4763\n",
      "Epoch 18/30\n",
      "359/359 [==============================] - 12s 33ms/step - loss: 0.2907 - accuracy: 0.9352 - val_loss: 0.2097 - val_accuracy: 0.9602\n",
      "Epoch 19/30\n",
      "359/359 [==============================] - 13s 35ms/step - loss: 0.2850 - accuracy: 0.9369 - val_loss: 1.4612 - val_accuracy: 0.6525\n",
      "Epoch 20/30\n",
      "359/359 [==============================] - 12s 33ms/step - loss: 0.2723 - accuracy: 0.9388 - val_loss: 1.7334 - val_accuracy: 0.5387\n",
      "Epoch 21/30\n",
      "359/359 [==============================] - 11s 31ms/step - loss: 0.2691 - accuracy: 0.9409 - val_loss: 0.2155 - val_accuracy: 0.9574\n",
      "Epoch 22/30\n",
      "359/359 [==============================] - 13s 36ms/step - loss: 0.2621 - accuracy: 0.9422 - val_loss: 0.2288 - val_accuracy: 0.9550\n",
      "Epoch 23/30\n",
      "359/359 [==============================] - 11s 32ms/step - loss: 0.2559 - accuracy: 0.9429 - val_loss: 0.2149 - val_accuracy: 0.9602\n",
      "Epoch 24/30\n",
      "359/359 [==============================] - 13s 35ms/step - loss: 0.2563 - accuracy: 0.9430 - val_loss: 0.2248 - val_accuracy: 0.9564\n",
      "Epoch 25/30\n",
      "359/359 [==============================] - 13s 35ms/step - loss: 0.2505 - accuracy: 0.9443 - val_loss: 0.4685 - val_accuracy: 0.8667\n",
      "Epoch 26/30\n",
      "359/359 [==============================] - 12s 33ms/step - loss: 0.2385 - accuracy: 0.9451 - val_loss: 0.2053 - val_accuracy: 0.9634\n",
      "Epoch 27/30\n",
      "359/359 [==============================] - 14s 39ms/step - loss: 0.2383 - accuracy: 0.9477 - val_loss: 0.2031 - val_accuracy: 0.9571\n",
      "Epoch 28/30\n",
      "359/359 [==============================] - 11s 32ms/step - loss: 0.2335 - accuracy: 0.9464 - val_loss: 0.2128 - val_accuracy: 0.9585\n",
      "Epoch 29/30\n",
      "359/359 [==============================] - 11s 32ms/step - loss: 0.2240 - accuracy: 0.9481 - val_loss: 0.2207 - val_accuracy: 0.9581\n",
      "Epoch 30/30\n",
      "359/359 [==============================] - 15s 41ms/step - loss: 0.2218 - accuracy: 0.9476 - val_loss: 0.2288 - val_accuracy: 0.9574\n"
     ]
    }
   ],
   "source": [
    "history = model.fit_generator(gen.flow(X_train,y_train), \n",
    "                              verbose=1,\n",
    "                              validation_data=(X_val, y_val), \n",
    "                              epochs=30,\n",
    "                              callbacks=[lr_scheduler, check_point])"
   ]
  },
  {
   "cell_type": "code",
   "execution_count": 28,
   "metadata": {
    "execution": {
     "iopub.execute_input": "2020-10-11T08:12:56.851023Z",
     "iopub.status.busy": "2020-10-11T08:12:56.849169Z",
     "iopub.status.idle": "2020-10-11T08:12:56.851796Z",
     "shell.execute_reply": "2020-10-11T08:12:56.852346Z"
    },
    "papermill": {
     "duration": 2.34431,
     "end_time": "2020-10-11T08:12:56.852487",
     "exception": false,
     "start_time": "2020-10-11T08:12:54.508177",
     "status": "completed"
    },
    "tags": []
   },
   "outputs": [],
   "source": [
    "def check_test(plates):\n",
    "    h1 = plates[0].shape[0]\n",
    "    checks = True\n",
    "    for i in range(len(plates)):\n",
    "        thr = h1 / plates[i].shape[0]\n",
    "        if thr < 0.65 or thr > 1.5:\n",
    "            checks = False\n",
    "    return checks"
   ]
  },
  {
   "cell_type": "code",
   "execution_count": 29,
   "metadata": {
    "execution": {
     "iopub.execute_input": "2020-10-11T08:13:01.896460Z",
     "iopub.status.busy": "2020-10-11T08:13:01.895322Z",
     "iopub.status.idle": "2020-10-11T08:13:01.898925Z",
     "shell.execute_reply": "2020-10-11T08:13:01.898314Z"
    },
    "papermill": {
     "duration": 2.37323,
     "end_time": "2020-10-11T08:13:01.899050",
     "exception": false,
     "start_time": "2020-10-11T08:12:59.525820",
     "status": "completed"
    },
    "tags": []
   },
   "outputs": [],
   "source": [
    "def prepare_test1(path):\n",
    "    img = cv2.imread(path)\n",
    "    thresholds = [50 + i*10 for i in range(19)]\n",
    "    for thresh in thresholds:\n",
    "        img_gray = cv2.cvtColor(img, cv2.COLOR_BGR2GRAY)\n",
    "        img_gray[img_gray < thresh] = 0\n",
    "        img_gray[img_gray > thresh] = 255\n",
    "        \n",
    "        contours, _ = cv2.findContours(img_gray, cv2.RETR_LIST, cv2.CHAIN_APPROX_SIMPLE)\n",
    "        crop_characters = []\n",
    "        for c in sort_contours(contours, img_gray):\n",
    "            (x, y, w, h) = cv2.boundingRect(c)\n",
    "            \n",
    "            if h/img_gray.shape[0]>=0.25 and h/img_gray.shape[0]<=0.7 and w/img_gray.shape[1]>0.03 and \\\n",
    "            w/img_gray.shape[1]<0.2: \n",
    "                \n",
    "                curr_num = img_gray[y:y+h,x:x+w]\n",
    "                _, curr_num = cv2.threshold(curr_num, 220, 255, cv2.THRESH_BINARY + cv2.THRESH_OTSU)\n",
    "                \n",
    "                if curr_num[0][0] == 255:\n",
    "                    crop_characters.append(curr_num)\n",
    "                    \n",
    "        if len(crop_characters) == 7 and check_test(crop_characters):\n",
    "            return crop_characters"
   ]
  },
  {
   "cell_type": "code",
   "execution_count": 30,
   "metadata": {
    "execution": {
     "iopub.execute_input": "2020-10-11T08:13:06.536499Z",
     "iopub.status.busy": "2020-10-11T08:13:06.535305Z",
     "iopub.status.idle": "2020-10-11T08:13:06.538520Z",
     "shell.execute_reply": "2020-10-11T08:13:06.539049Z"
    },
    "papermill": {
     "duration": 2.29848,
     "end_time": "2020-10-11T08:13:06.539245",
     "exception": false,
     "start_time": "2020-10-11T08:13:04.240765",
     "status": "completed"
    },
    "tags": []
   },
   "outputs": [],
   "source": [
    "def crop_char(img_gray, thresh):    \n",
    "    img_gray[img_gray < thresh] = 0\n",
    "    img_gray[img_gray > thresh] = 255\n",
    "    \n",
    "    contours, _ = cv2.findContours(img_gray, cv2.RETR_LIST, cv2.CHAIN_APPROX_SIMPLE)\n",
    "    crop_characters = []\n",
    "    \n",
    "    for c in sort_contours(contours, img_gray):\n",
    "        (x, y, w, h) = cv2.boundingRect(c)\n",
    "        \n",
    "        if h/img_gray.shape[0]>=0.2 and h/img_gray.shape[0]<=0.8 and w/img_gray.shape[1]>0.03: \n",
    "            curr_num = img_gray[y:y+h,x:x+w]\n",
    "            _, curr_num = cv2.threshold(curr_num, 220, 255, cv2.THRESH_BINARY + cv2.THRESH_OTSU)\n",
    "            \n",
    "            if curr_num[0][0] == 255:\n",
    "                crop_characters.append(curr_num)\n",
    "                \n",
    "    return crop_characters"
   ]
  },
  {
   "cell_type": "code",
   "execution_count": 31,
   "metadata": {
    "execution": {
     "iopub.execute_input": "2020-10-11T08:13:11.999555Z",
     "iopub.status.busy": "2020-10-11T08:13:11.998753Z",
     "iopub.status.idle": "2020-10-11T08:13:12.002713Z",
     "shell.execute_reply": "2020-10-11T08:13:12.003247Z"
    },
    "papermill": {
     "duration": 3.07908,
     "end_time": "2020-10-11T08:13:12.003408",
     "exception": false,
     "start_time": "2020-10-11T08:13:08.924328",
     "status": "completed"
    },
    "tags": []
   },
   "outputs": [],
   "source": [
    "def prepare_test2(path):\n",
    "    img = cv2.imread(path)\n",
    "    thresholds = [20 + i*10 for i in range(22)]\n",
    "    best_thresh = 100\n",
    "    best_score = 7\n",
    "    length = 0\n",
    "    \n",
    "    for thresh in thresholds:\n",
    "        img_gray = cv2.cvtColor(img, cv2.COLOR_BGR2GRAY)\n",
    "        crop_characters = crop_char(img_gray, thresh)\n",
    "        \n",
    "        if abs(7 - len(crop_characters)) < best_score:\n",
    "            best_thresh = thresh\n",
    "            length = len(crop_characters)\n",
    "            best_score = abs(7 - length)\n",
    "            \n",
    "        elif abs(7 - len(crop_characters)) == best_score and len(crop_characters) >= length:\n",
    "            best_thresh = thresh\n",
    "            length = len(crop_characters)\n",
    "            best_score = abs(7 - length)\n",
    "            \n",
    "    img_gray = cv2.cvtColor(img, cv2.COLOR_BGR2GRAY)\n",
    "    return crop_char(img_gray, best_thresh)"
   ]
  },
  {
   "cell_type": "code",
   "execution_count": 32,
   "metadata": {
    "execution": {
     "iopub.execute_input": "2020-10-11T08:13:16.685009Z",
     "iopub.status.busy": "2020-10-11T08:13:16.684283Z",
     "iopub.status.idle": "2020-10-11T08:13:16.757468Z",
     "shell.execute_reply": "2020-10-11T08:13:16.757977Z"
    },
    "papermill": {
     "duration": 2.412551,
     "end_time": "2020-10-11T08:13:16.758114",
     "exception": false,
     "start_time": "2020-10-11T08:13:14.345563",
     "status": "completed"
    },
    "tags": []
   },
   "outputs": [
    {
     "data": {
      "text/plain": [
       "3697"
      ]
     },
     "execution_count": 32,
     "metadata": {},
     "output_type": "execute_result"
    }
   ],
   "source": [
    "test_paths = sorted(glob(os.path.join(PATH, \"test/test/*\")))\n",
    "len(test_paths)"
   ]
  },
  {
   "cell_type": "code",
   "execution_count": 33,
   "metadata": {
    "execution": {
     "iopub.execute_input": "2020-10-11T08:13:21.666616Z",
     "iopub.status.busy": "2020-10-11T08:13:21.665806Z",
     "iopub.status.idle": "2020-10-11T08:33:12.221026Z",
     "shell.execute_reply": "2020-10-11T08:33:12.215855Z"
    },
    "papermill": {
     "duration": 1193.108584,
     "end_time": "2020-10-11T08:33:12.221223",
     "exception": false,
     "start_time": "2020-10-11T08:13:19.112639",
     "status": "completed"
    },
    "tags": []
   },
   "outputs": [
    {
     "name": "stderr",
     "output_type": "stream",
     "text": [
      "100%|██████████| 3697/3697 [19:47<00:00,  3.11it/s]\n"
     ]
    }
   ],
   "source": [
    "predictions = []\n",
    "for path in tqdm(test_paths):\n",
    "    if prepare_img(path):\n",
    "        cropped_img = prepare_img(path)\n",
    "        \n",
    "    elif prepare_test1(path):\n",
    "        cropped_img = prepare_test1(path)\n",
    "        \n",
    "    else:\n",
    "        cropped_img = prepare_test2(path)\n",
    "        \n",
    "    if cropped_img:\n",
    "        characters = []\n",
    "        \n",
    "        for i in range(len(cropped_img)):\n",
    "            resized = cv2.resize(img, (64, 64), interpolation = cv2.INTER_AREA)\n",
    "            resized = resized / 255\n",
    "            reshaped = resized.reshape(-1, 64, 64, 1)\n",
    "            predict = model.predict_classes(reshaped)\n",
    "            predict = le.inverse_transform(predict)\n",
    "            \n",
    "            if i < 4:\n",
    "                if predict[0] == 'О':\n",
    "                    characters.append('0')\n",
    "                elif predict[0] == 'З' or predict[0] == 'Э':\n",
    "                    characters.append('3')\n",
    "                elif predict[0] == 'Т':\n",
    "                    characters.append('1')\n",
    "                else:\n",
    "                    characters.append(predict[0])\n",
    "                    \n",
    "            else:\n",
    "                if predict[0] == '0':\n",
    "                    characters.append('О')\n",
    "                elif predict[0] == '3':\n",
    "                    characters.append('З')\n",
    "                else:\n",
    "                    characters.append(predict[0])\n",
    "                    \n",
    "        predictions.append(\"\".join(characters))\n",
    "    else:\n",
    "        predictions.append(\"\")"
   ]
  },
  {
   "cell_type": "code",
   "execution_count": 34,
   "metadata": {
    "execution": {
     "iopub.execute_input": "2020-10-11T08:33:20.235737Z",
     "iopub.status.busy": "2020-10-11T08:33:20.234957Z",
     "iopub.status.idle": "2020-10-11T08:33:20.471895Z",
     "shell.execute_reply": "2020-10-11T08:33:20.470609Z"
    },
    "papermill": {
     "duration": 4.392269,
     "end_time": "2020-10-11T08:33:20.472033",
     "exception": false,
     "start_time": "2020-10-11T08:33:16.079764",
     "status": "completed"
    },
    "tags": []
   },
   "outputs": [],
   "source": [
    "test_csv[\"plate_number\"] = predictions\n",
    "test_csv.to_csv(\"submission.csv\", index=False)"
   ]
  }
 ],
 "metadata": {
  "kernelspec": {
   "display_name": "Python 3",
   "language": "python",
   "name": "python3"
  },
  "language_info": {
   "codemirror_mode": {
    "name": "ipython",
    "version": 3
   },
   "file_extension": ".py",
   "mimetype": "text/x-python",
   "name": "python",
   "nbconvert_exporter": "python",
   "pygments_lexer": "ipython3",
   "version": "3.7.9"
  },
  "papermill": {
   "duration": 1655.135537,
   "end_time": "2020-10-11T08:33:25.442663",
   "environment_variables": {},
   "exception": null,
   "input_path": "__notebook__.ipynb",
   "output_path": "__notebook__.ipynb",
   "parameters": {},
   "start_time": "2020-10-11T08:05:50.307126",
   "version": "2.1.0"
  }
 },
 "nbformat": 4,
 "nbformat_minor": 4
}
